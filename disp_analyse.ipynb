{
 "cells": [
  {
   "cell_type": "markdown",
   "id": "b6955084",
   "metadata": {},
   "source": [
    "Провести дисперсионный анализ для определения того, есть ли различия среднего роста среди взрослых футболистов, хоккеистов и штангистов. Даны значения роста в трех группах случайно выбранных спортсменов: Футболисты: 173, 175, 180, 178, 177, 185, 183, 182. Хоккеисты: 177, 179, 180, 188, 177, 172, 171, 184, 180. Штангисты: 172, 173, 169, 177, 166, 180, 178, 177, 172, 166, 170. alpha = 0.05."
   ]
  },
  {
   "cell_type": "code",
   "execution_count": 22,
   "id": "e8fe259c",
   "metadata": {},
   "outputs": [],
   "source": [
    "import numpy as np\n",
    "import warnings\n",
    "warnings.filterwarnings('ignore')"
   ]
  },
  {
   "cell_type": "code",
   "execution_count": 23,
   "id": "10e0855b",
   "metadata": {},
   "outputs": [],
   "source": [
    "n1=8\n",
    "n2=9\n",
    "n3=11\n",
    "n=n1+n2+n3"
   ]
  },
  {
   "cell_type": "code",
   "execution_count": 24,
   "id": "03afe457",
   "metadata": {},
   "outputs": [],
   "source": [
    "k=3"
   ]
  },
  {
   "cell_type": "code",
   "execution_count": 25,
   "id": "46d10b93",
   "metadata": {},
   "outputs": [],
   "source": [
    "y1 = np.array([173, 175, 180, 178, 177, 185, 183, 182], dtype=np.float64)\n",
    "y2 = np.array([177, 179, 180, 188, 177, 172, 171, 184, 180], dtype=np.float64)\n",
    "y3 = np.array([172, 173, 169, 177, 166, 180, 178, 177, 172, 166, 170], dtype=np.float64)"
   ]
  },
  {
   "cell_type": "code",
   "execution_count": 26,
   "id": "b02e3cce",
   "metadata": {},
   "outputs": [
    {
     "name": "stdout",
     "output_type": "stream",
     "text": [
      "179.125\n"
     ]
    }
   ],
   "source": [
    "y1_mean = np.mean(y1)\n",
    "print(y1_mean)"
   ]
  },
  {
   "cell_type": "code",
   "execution_count": 27,
   "id": "d1dd24ff",
   "metadata": {},
   "outputs": [
    {
     "name": "stdout",
     "output_type": "stream",
     "text": [
      "178.66666666666666\n"
     ]
    }
   ],
   "source": [
    "y2_mean = np.mean(y2)\n",
    "print(y2_mean)"
   ]
  },
  {
   "cell_type": "code",
   "execution_count": 28,
   "id": "6b97ef69",
   "metadata": {},
   "outputs": [
    {
     "name": "stdout",
     "output_type": "stream",
     "text": [
      "172.72727272727272\n"
     ]
    }
   ],
   "source": [
    "y3_mean = np.mean(y3)\n",
    "print(y3_mean)"
   ]
  },
  {
   "cell_type": "code",
   "execution_count": 35,
   "id": "c11d07e6",
   "metadata": {},
   "outputs": [],
   "source": [
    "s2_f =((y1_mean - y_mean)**2) * n1 + ((y2_mean - y_mean)**2) * n2  + ((y3_mean - y_mean)**2) * n3 "
   ]
  },
  {
   "cell_type": "code",
   "execution_count": 30,
   "id": "52b916dd",
   "metadata": {},
   "outputs": [
    {
     "data": {
      "text/plain": [
       "array([173., 175., 180., 178., 177., 185., 183., 182., 177., 179., 180.,\n",
       "       188., 177., 172., 171., 184., 180., 172., 173., 169., 177., 166.,\n",
       "       180., 178., 177., 172., 166., 170.])"
      ]
     },
     "execution_count": 30,
     "metadata": {},
     "output_type": "execute_result"
    }
   ],
   "source": [
    "y_all = np.concatenate([y1,y2,y3])\n",
    "y_all\n"
   ]
  },
  {
   "cell_type": "code",
   "execution_count": 33,
   "id": "308b4c0f",
   "metadata": {},
   "outputs": [],
   "source": [
    "y_mean = np.mean(y_all)"
   ]
  },
  {
   "cell_type": "code",
   "execution_count": 37,
   "id": "97cda7da",
   "metadata": {},
   "outputs": [
    {
     "name": "stdout",
     "output_type": "stream",
     "text": [
      "176.46428571428572\n"
     ]
    }
   ],
   "source": [
    "s2=np.sum((y_all - y_mean)**2)\n",
    "print(y_mean)"
   ]
  },
  {
   "cell_type": "code",
   "execution_count": 39,
   "id": "1fb4e4ae",
   "metadata": {},
   "outputs": [
    {
     "data": {
      "text/plain": [
       "253.9074675324678"
      ]
     },
     "execution_count": 39,
     "metadata": {},
     "output_type": "execute_result"
    }
   ],
   "source": [
    "s2_f =((y1_mean - y_mean)**2) * n1 + ((y2_mean - y_mean)**2) * n2  + ((y3_mean - y_mean)**2) * n3 \n",
    "s2_f"
   ]
  },
  {
   "cell_type": "code",
   "execution_count": 51,
   "id": "7be67276",
   "metadata": {},
   "outputs": [
    {
     "data": {
      "text/plain": [
       "577.0568181818177"
      ]
     },
     "execution_count": 51,
     "metadata": {},
     "output_type": "execute_result"
    }
   ],
   "source": [
    "s2_residual = s2 - s2_f\n",
    "s2_residual"
   ]
  },
  {
   "cell_type": "code",
   "execution_count": 52,
   "id": "6589aedd",
   "metadata": {},
   "outputs": [
    {
     "data": {
      "text/plain": [
       "803.9642857142854"
      ]
     },
     "execution_count": 52,
     "metadata": {},
     "output_type": "execute_result"
    }
   ],
   "source": [
    "sigma2_general = s2-(n-1)\n",
    "sigma2_general"
   ]
  },
  {
   "cell_type": "code",
   "execution_count": 53,
   "id": "c63beda5",
   "metadata": {},
   "outputs": [
    {
     "data": {
      "text/plain": [
       "251.9074675324678"
      ]
     },
     "execution_count": 53,
     "metadata": {},
     "output_type": "execute_result"
    }
   ],
   "source": [
    "sigma2_f = s2_f-(k-1)\n",
    "sigma2_f "
   ]
  },
  {
   "cell_type": "code",
   "execution_count": 54,
   "id": "a9715bbe",
   "metadata": {},
   "outputs": [
    {
     "data": {
      "text/plain": [
       "830.9642857142854"
      ]
     },
     "execution_count": 54,
     "metadata": {},
     "output_type": "execute_result"
    }
   ],
   "source": [
    "s2_prov = s2_f + s2_ost\n",
    "s2_prov"
   ]
  },
  {
   "cell_type": "code",
   "execution_count": 59,
   "id": "b11c964b",
   "metadata": {},
   "outputs": [
    {
     "data": {
      "text/plain": [
       "23.082272727272706"
      ]
     },
     "execution_count": 59,
     "metadata": {},
     "output_type": "execute_result"
    }
   ],
   "source": [
    "sigma2_residual = s2_residual /(n-k)\n",
    "sigma2_residual"
   ]
  },
  {
   "cell_type": "code",
   "execution_count": 61,
   "id": "e02cf593",
   "metadata": {},
   "outputs": [
    {
     "data": {
      "text/plain": [
       "10.913460321211273"
      ]
     },
     "execution_count": 61,
     "metadata": {},
     "output_type": "execute_result"
    }
   ],
   "source": [
    "F_h = sigma2_f / sigma2_residual\n",
    "F_h "
   ]
  },
  {
   "cell_type": "code",
   "execution_count": null,
   "id": "11d6edc7",
   "metadata": {},
   "outputs": [],
   "source": []
  }
 ],
 "metadata": {
  "kernelspec": {
   "display_name": "Python 3 (ipykernel)",
   "language": "python",
   "name": "python3"
  },
  "language_info": {
   "codemirror_mode": {
    "name": "ipython",
    "version": 3
   },
   "file_extension": ".py",
   "mimetype": "text/x-python",
   "name": "python",
   "nbconvert_exporter": "python",
   "pygments_lexer": "ipython3",
   "version": "3.9.13"
  }
 },
 "nbformat": 4,
 "nbformat_minor": 5
}
