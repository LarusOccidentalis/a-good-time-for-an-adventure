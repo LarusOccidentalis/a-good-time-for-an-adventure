{
 "cells": [
  {
   "cell_type": "code",
   "execution_count": 1,
   "id": "47ee42d6",
   "metadata": {},
   "outputs": [
    {
     "name": "stdout",
     "output_type": "stream",
     "text": [
      "rank A = 3\n",
      "rank A_extended = 3\n"
     ]
    }
   ],
   "source": [
    "import numpy as np\n",
    "A = np.array([[3, -1, 1], [2, -5, -3], [1, 1, -1]])\n",
    "b = np.array([4, -17, 0])[:, np.newaxis]\n",
    "A_extended = np.hstack((A, b))\n",
    "print(f'rank A = {np.linalg.matrix_rank(A)}')\n",
    "print(f'rank A_extended = {np.linalg.matrix_rank(A_extended)}')"
   ]
  },
  {
   "cell_type": "code",
   "execution_count": 2,
   "id": "94b54a3f",
   "metadata": {},
   "outputs": [
    {
     "name": "stdout",
     "output_type": "stream",
     "text": [
      "rank A = 1\n",
      "rank A_extended = 2\n"
     ]
    }
   ],
   "source": [
    "A = np.array([[2, -4, 6], [1, -2, 3], [3, -6, 9]])\n",
    "b = np.array([1, -2, 5])[:, np.newaxis]\n",
    "A_extended = np.hstack((A, b))\n",
    "print(f'rank A = {np.linalg.matrix_rank(A)}')\n",
    "print(f'rank A_extended = {np.linalg.matrix_rank(A_extended)}')"
   ]
  },
  {
   "cell_type": "code",
   "execution_count": 3,
   "id": "82ee69aa",
   "metadata": {},
   "outputs": [
    {
     "name": "stdout",
     "output_type": "stream",
     "text": [
      "rank A = 2\n",
      "rank A_extended = 2\n"
     ]
    }
   ],
   "source": [
    "A = np.array([[1, 2, 5], [3, 1, -8]])\n",
    "b = np.array([4, -2])[:, np.newaxis]\n",
    "A_extended = np.hstack((A, b))\n",
    "print(f'rank A = {np.linalg.matrix_rank(A)}')\n",
    "print(f'rank A_extended = {np.linalg.matrix_rank(A_extended)}')"
   ]
  },
  {
   "cell_type": "code",
   "execution_count": 4,
   "id": "48dd1e67",
   "metadata": {},
   "outputs": [
    {
     "ename": "SyntaxError",
     "evalue": "EOL while scanning string literal (2410386692.py, line 5)",
     "output_type": "error",
     "traceback": [
      "\u001b[1;36m  File \u001b[1;32m\"C:\\Users\\Personal Computer\\AppData\\Local\\Temp\\ipykernel_15352\\2410386692.py\"\u001b[1;36m, line \u001b[1;32m5\u001b[0m\n\u001b[1;33m    print(f'Система совместна: {np.linalg.matrix_rank(A) ==\u001b[0m\n\u001b[1;37m                                                           ^\u001b[0m\n\u001b[1;31mSyntaxError\u001b[0m\u001b[1;31m:\u001b[0m EOL while scanning string literal\n"
     ]
    }
   ],
   "source": [
    "A = np.array([[1, 3, -2, 4], [0, 5, 0, 1], [0, 0, 3, 0], [0, 0, 0,\n",
    "2]])\n",
    "b = np.array([[3], [2], [4], [1]])\n",
    "A_ext = np.hstack((A, b))\n",
    "print(f'Система совместна: {np.linalg.matrix_rank(A) ==\n",
    "np.linalg.matrix_rank(A_ext)}')\n",
    "print(f'Имеет единственное решение: {np.linalg.matrix_rank(A) ==\n",
    "np.linalg.matrix_rank(A_ext) == 4}')"
   ]
  },
  {
   "cell_type": "code",
   "execution_count": 5,
   "id": "74bfd8fb",
   "metadata": {},
   "outputs": [
    {
     "ename": "NameError",
     "evalue": "name 'array' is not defined",
     "output_type": "error",
     "traceback": [
      "\u001b[1;31m---------------------------------------------------------------------------\u001b[0m",
      "\u001b[1;31mNameError\u001b[0m                                 Traceback (most recent call last)",
      "\u001b[1;32m~\\AppData\\Local\\Temp\\ipykernel_15352\\1811218139.py\u001b[0m in \u001b[0;36m<module>\u001b[1;34m\u001b[0m\n\u001b[0;32m      2\u001b[0m \u001b[0mA\u001b[0m\u001b[1;33m[\u001b[0m\u001b[1;36m2\u001b[0m\u001b[1;33m]\u001b[0m \u001b[1;33m=\u001b[0m \u001b[0mA\u001b[0m\u001b[1;33m[\u001b[0m\u001b[1;36m2\u001b[0m\u001b[1;33m]\u001b[0m \u001b[1;33m-\u001b[0m \u001b[1;36m2\u001b[0m\u001b[1;33m*\u001b[0m\u001b[0mA\u001b[0m\u001b[1;33m[\u001b[0m\u001b[1;36m1\u001b[0m\u001b[1;33m]\u001b[0m \u001b[1;33m+\u001b[0m \u001b[0mA\u001b[0m\u001b[1;33m[\u001b[0m\u001b[1;36m0\u001b[0m\u001b[1;33m]\u001b[0m\u001b[1;33m\u001b[0m\u001b[1;33m\u001b[0m\u001b[0m\n\u001b[0;32m      3\u001b[0m \u001b[0mA\u001b[0m\u001b[1;33m\u001b[0m\u001b[1;33m\u001b[0m\u001b[0m\n\u001b[1;32m----> 4\u001b[1;33m array([[1, 2, 3],\n\u001b[0m\u001b[0;32m      5\u001b[0m  \u001b[1;33m[\u001b[0m\u001b[1;36m4\u001b[0m\u001b[1;33m,\u001b[0m \u001b[1;36m5\u001b[0m\u001b[1;33m,\u001b[0m \u001b[1;36m6\u001b[0m\u001b[1;33m]\u001b[0m\u001b[1;33m,\u001b[0m\u001b[1;33m\u001b[0m\u001b[1;33m\u001b[0m\u001b[0m\n\u001b[0;32m      6\u001b[0m  [0, 0, 0]])\n",
      "\u001b[1;31mNameError\u001b[0m: name 'array' is not defined"
     ]
    }
   ],
   "source": [
    "A = np.array([[1, 2, 3], [4, 5, 6], [7, 8, 9]])\n",
    "A[2] = A[2] - 2*A[1] + A[0]\n",
    "A\n",
    "array([[1, 2, 3],\n",
    " [4, 5, 6],\n",
    " [0, 0, 0]])"
   ]
  },
  {
   "cell_type": "code",
   "execution_count": 12,
   "id": "3bc6006d",
   "metadata": {},
   "outputs": [
    {
     "ename": "IndentationError",
     "evalue": "unexpected indent (3910437390.py, line 10)",
     "output_type": "error",
     "traceback": [
      "\u001b[1;36m  File \u001b[1;32m\"C:\\Users\\Personal Computer\\AppData\\Local\\Temp\\ipykernel_15352\\3910437390.py\"\u001b[1;36m, line \u001b[1;32m10\u001b[0m\n\u001b[1;33m    else:\u001b[0m\n\u001b[1;37m    ^\u001b[0m\n\u001b[1;31mIndentationError\u001b[0m\u001b[1;31m:\u001b[0m unexpected indent\n"
     ]
    }
   ],
   "source": [
    "def kramer(A, b):\n",
    " assert A.shape[0] == A.shape[1], 'Wrong matrix size!'\n",
    " det_A = np.linalg.det(A)\n",
    " result = []\n",
    " if np.abs(det_A) > 0.000001: #может быть ошибка округления\n",
    "     for i in range(A.shape[0]):\n",
    "         A_i = np.hstack((A[:, :i], b, A[:, i+1:]))\n",
    " result.append(np.linalg.det(A_i) / det_A)\n",
    " return np.round(result, 2)\n",
    "     else:\n",
    "         return 'det A is 0'\n"
   ]
  },
  {
   "cell_type": "code",
   "execution_count": 17,
   "id": "f19998f4",
   "metadata": {},
   "outputs": [
    {
     "ename": "SyntaxError",
     "evalue": "f-string: expecting '}' (1886530747.py, line 7)",
     "output_type": "error",
     "traceback": [
      "\u001b[1;36m  File \u001b[1;32m\"C:\\Users\\Personal Computer\\AppData\\Local\\Temp\\ipykernel_15352\\1886530747.py\"\u001b[1;36m, line \u001b[1;32m7\u001b[0m\n\u001b[1;33m    print(f'б) {'kramer'(A, b)}')\u001b[0m\n\u001b[1;37m                 ^\u001b[0m\n\u001b[1;31mSyntaxError\u001b[0m\u001b[1;31m:\u001b[0m f-string: expecting '}'\n"
     ]
    }
   ],
   "source": [
    "A = np.array([[1, -2], [3, -4]])\n",
    "b = np.array([[1, 7]]).T\n",
    "print(f'a) {kramer(A, b)}')\n",
    "# б)\n",
    "A = np.array([[2, -1, 5], [1, 1, -3], [2, 4, 1]])\n",
    "b = np.array([[10, -2, 1]]).T\n",
    "print(f'б) {kramer(A, b)}')"
   ]
  },
  {
   "cell_type": "code",
   "execution_count": 18,
   "id": "b6e76eda",
   "metadata": {},
   "outputs": [
    {
     "ename": "SyntaxError",
     "evalue": "invalid syntax (3894495117.py, line 2)",
     "output_type": "error",
     "traceback": [
      "\u001b[1;36m  File \u001b[1;32m\"C:\\Users\\Personal Computer\\AppData\\Local\\Temp\\ipykernel_15352\\3894495117.py\"\u001b[1;36m, line \u001b[1;32m2\u001b[0m\n\u001b[1;33m    assert A.shape[0] == A.shape[1] and A[0][0] !=0 and\u001b[0m\n\u001b[1;37m                                                       ^\u001b[0m\n\u001b[1;31mSyntaxError\u001b[0m\u001b[1;31m:\u001b[0m invalid syntax\n"
     ]
    }
   ],
   "source": [
    "def LU(A):\n",
    " assert A.shape[0] == A.shape[1] and A[0][0] !=0 and\n",
    "np.abs(np.linalg.det(A)) > 0.00001, 'Невозможно разложить матрицу'\n",
    " L = np.zeros_like(A)\n",
    " U = np.zeros_like(A)\n",
    " # первая строка U и первый столбец L\n",
    " U[0] = A[0]\n",
    " L[:, 0] = A[:, 0] / U[0, 0]\n",
    " for i in range(A.shape[1]):\n",
    " for j in range(i, A.shape[1]):\n",
    " U[0, i] = A[0, i]\n",
    " L[i, 0] = A[i, 0] / U[0, 0]\n",
    " u_sum, l_sum = 0, 0\n",
    " for k in range(i):\n",
    " u_sum += L[i, k] * U[k, j]\n",
    " l_sum += L[j, k] * U[k, i]\n",
    " U[i, j] = A[i, j] - u_sum\n",
    " L[j, i] = (A[j, i] - l_sum) / U[i, i]\n",
    " return U, L\n"
   ]
  },
  {
   "cell_type": "code",
   "execution_count": 19,
   "id": "7174a08b",
   "metadata": {},
   "outputs": [
    {
     "ename": "IndentationError",
     "evalue": "expected an indented block (381631729.py, line 6)",
     "output_type": "error",
     "traceback": [
      "\u001b[1;36m  File \u001b[1;32m\"C:\\Users\\Personal Computer\\AppData\\Local\\Temp\\ipykernel_15352\\381631729.py\"\u001b[1;36m, line \u001b[1;32m6\u001b[0m\n\u001b[1;33m    y[i] = b[i] - (L[i, :i] * y[:i]).sum()\u001b[0m\n\u001b[1;37m    ^\u001b[0m\n\u001b[1;31mIndentationError\u001b[0m\u001b[1;31m:\u001b[0m expected an indented block\n"
     ]
    }
   ],
   "source": [
    "def LU_slau(A, b):\n",
    " U, L = LU(A)\n",
    " y = np.zeros(A.shape[0])\n",
    " x = np.zeros(A.shape[0])\n",
    " for i in range(A.shape[0]):\n",
    " y[i] = b[i] - (L[i, :i] * y[:i]).sum()\n",
    " for i in range(A.shape[0]-1, -1, -1):\n",
    " x[i] = (y[i] - (U[i, i+1:]*x[i+1:]).sum())/U[i, i]\n",
    " return x\n",
    "A = np.array([[2, 1, 3], [11, 7, 5], [9, 8, 4]])\n",
    "b = np.array([1, -6, 5])\n",
    "x = LU_slau(A, b)\n",
    "print(f'x = {x}')\n",
    "print('Проверка')\n",
    "for i in range(len(A)):\n",
    " print((x * A[0]).sum() == b[0])"
   ]
  },
  {
   "cell_type": "code",
   "execution_count": null,
   "id": "bb9b4e56",
   "metadata": {},
   "outputs": [],
   "source": []
  }
 ],
 "metadata": {
  "kernelspec": {
   "display_name": "Python 3 (ipykernel)",
   "language": "python",
   "name": "python3"
  },
  "language_info": {
   "codemirror_mode": {
    "name": "ipython",
    "version": 3
   },
   "file_extension": ".py",
   "mimetype": "text/x-python",
   "name": "python",
   "nbconvert_exporter": "python",
   "pygments_lexer": "ipython3",
   "version": "3.9.13"
  }
 },
 "nbformat": 4,
 "nbformat_minor": 5
}
