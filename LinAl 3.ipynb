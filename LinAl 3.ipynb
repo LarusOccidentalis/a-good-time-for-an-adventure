{
 "cells": [
  {
   "cell_type": "code",
   "execution_count": 4,
   "id": "31edc85b",
   "metadata": {},
   "outputs": [
    {
     "data": {
      "text/plain": [
       "(array([2., 3.]),\n",
       " array([[-0.89442719,  0.83205029],\n",
       "        [ 0.4472136 , -0.5547002 ]]))"
      ]
     },
     "execution_count": 4,
     "metadata": {},
     "output_type": "execute_result"
    }
   ],
   "source": [
    "import numpy as np\n",
    "A = np.array([[-1, -6], [2, 6]])\n",
    "w, v = np.linalg.eig(A)\n",
    "w, v"
   ]
  },
  {
   "cell_type": "code",
   "execution_count": 5,
   "id": "ef5ab885",
   "metadata": {},
   "outputs": [
    {
     "name": "stdout",
     "output_type": "stream",
     "text": [
      "[ 3. -3.  3.]\n"
     ]
    }
   ],
   "source": [
    "A = np.array([[0, 3, 0], [3, 0, 0], [0, 0, 3]])\n",
    "v, _ = np.linalg.eig(A)\n",
    "print(v)"
   ]
  },
  {
   "cell_type": "code",
   "execution_count": 6,
   "id": "47ed4652",
   "metadata": {},
   "outputs": [
    {
     "name": "stdout",
     "output_type": "stream",
     "text": [
      "A * vect = [ -9   9 -12]\n",
      "lambda1 * vect = [  9.  -9. -12.]\n",
      "lambda2 * vect = [-9.  9. 12.]\n",
      "lambda3 * vect = [  9.  -9. -12.]\n"
     ]
    }
   ],
   "source": [
    "vect = np.array([3, -3, -4])\n",
    "print(f'A * vect = {A.dot(vect)}')\n",
    "print(f'lambda1 * vect = {v[0] * vect}')\n",
    "print(f'lambda2 * vect = {v[1] * vect}')\n",
    "print(f'lambda3 * vect = {v[2] * vect}')"
   ]
  },
  {
   "cell_type": "code",
   "execution_count": 7,
   "id": "47cfb4d4",
   "metadata": {},
   "outputs": [
    {
     "data": {
      "text/plain": [
       "array([[ 0.70710678, -0.70710678,  0.        ],\n",
       "       [ 0.70710678,  0.70710678,  0.        ],\n",
       "       [ 0.        ,  0.        ,  1.        ]])"
      ]
     },
     "execution_count": 7,
     "metadata": {},
     "output_type": "execute_result"
    }
   ],
   "source": [
    "b = np.array([[1, 1], [-1, 3]])\n",
    "v, w = np.linalg.eig(A)\n",
    "w"
   ]
  },
  {
   "cell_type": "code",
   "execution_count": null,
   "id": "ee4ef023",
   "metadata": {},
   "outputs": [],
   "source": []
  }
 ],
 "metadata": {
  "kernelspec": {
   "display_name": "Python 3 (ipykernel)",
   "language": "python",
   "name": "python3"
  },
  "language_info": {
   "codemirror_mode": {
    "name": "ipython",
    "version": 3
   },
   "file_extension": ".py",
   "mimetype": "text/x-python",
   "name": "python",
   "nbconvert_exporter": "python",
   "pygments_lexer": "ipython3",
   "version": "3.9.13"
  }
 },
 "nbformat": 4,
 "nbformat_minor": 5
}
