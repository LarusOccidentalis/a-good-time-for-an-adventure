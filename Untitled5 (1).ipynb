{
 "cells": [
  {
   "cell_type": "code",
   "execution_count": 38,
   "id": "f4132570",
   "metadata": {},
   "outputs": [
    {
     "name": "stdout",
     "output_type": "stream",
     "text": [
      "[2.  8.4]\n"
     ]
    }
   ],
   "source": [
    "import numpy as np\n",
    "N = np.array([[1, 6],\n",
    "             [2, 8],\n",
    "             [3, 11],\n",
    "             [3authors_price = pd.merge(authors, book, on = 'author_id', how = 'outer')\n",
    "print(authors_price), 10],\n",
    "             [1, 7]])\n",
    "             \n",
    "mean_N = np.mean(N, axis = 0)\n",
    "print(mean_N)"
   ]
  },
  {
   "cell_type": "markdown",
   "id": "9548b208",
   "metadata": {},
   "source": [
    "a_centered = N- mean_N\n",
    "print(a_centered)"
   ]
  },
  {
   "cell_type": "code",
   "execution_count": 34,
   "id": "530971c4",
   "metadata": {},
   "outputs": [
    {
     "name": "stdout",
     "output_type": "stream",
     "text": [
      "[-0.5 -0.5  1.5 -0.5]\n",
      "[-2.75 -0.75  2.25  1.25]\n",
      "4.5\n",
      "1.5\n"
     ]
    }
   ],
   "source": [
    "a = a_centered[:, 0]\n",
    "print(a)\n",
    "b = a_centered[:, 1]\n",
    "print(b)\n",
    "a_centered_spa = np.dot(a,b)\n",
    "print(_centered_spa)\n",
    "c = a_centered_spa / (a_centered.shape[0] - 1)\n",
    "print(c)\n",
    "\n",
    "\n",
    "\n",
    "\n"
   ]
  },
  {
   "cell_type": "code",
   "execution_count": 36,
   "id": "ececf728",
   "metadata": {
    "scrolled": true
   },
   "outputs": [
    {
     "data": {
      "text/plain": [
       "1.5"
      ]
     },
     "execution_count": 36,
     "metadata": {},
     "output_type": "execute_result"
    }
   ],
   "source": [
    "np.cov(N.T)[0, 1]"
   ]
  },
  {
   "cell_type": "markdown",
   "id": "7e7eea5a",
   "metadata": {},
   "source": [
    "Pandas"
   ]
  },
  {
   "cell_type": "code",
   "execution_count": 40,
   "id": "b39ccd41",
   "metadata": {},
   "outputs": [],
   "source": [
    "import pandas as pd"
   ]
  },
  {
   "cell_type": "code",
   "execution_count": 41,
   "id": "e65f64ce",
   "metadata": {},
   "outputs": [
    {
     "name": "stdout",
     "output_type": "stream",
     "text": [
      "   author_id author_name\n",
      "0          1    Тургенев\n",
      "1          2       Чехов\n",
      "2          3  Островский\n"
     ]
    }
   ],
   "source": [
    "authors = pd.DataFrame({'author_id':[1, 2, 3], \n",
    "                        'author_name':['Тургенев', 'Чехов', 'Островский']}, \n",
    "                       columns=['author_id', 'author_name'])\n",
    "print(authors)"
   ]
  },
  {
   "cell_type": "code",
   "execution_count": 49,
   "id": "5635ff13",
   "metadata": {},
   "outputs": [
    {
     "name": "stdout",
     "output_type": "stream",
     "text": [
      "   author_id            book_title  price\n",
      "0          1           Отцы и дети   1200\n",
      "1          1                 Рудин    500\n",
      "2          1     Дворянское гнездо    750\n",
      "3          2      Толстый и тонкий   2000\n",
      "4          2       Дама с собачкой    100\n",
      "5          3                 Гроза    345\n",
      "6          3  Таланты и поклонники     78\n"
     ]
    }
   ],
   "source": [
    "book = pd.DataFrame({'author_id':[1, 1, 1, 2, 2, 3, 3], \n",
    "                     'book_title':['Отцы и дети', 'Рудин', 'Дворянское гнездо', 'Толстый и тонкий', 'Дама с собачкой', 'Гроза', 'Таланты и поклонники'], \n",
    "                     'price':[1200, 500, 750, 2000, 100, 345, 78]}, \n",
    "                    columns=['author_id', 'book_title', 'price'])\n",
    "print(book)"
   ]
  },
  {
   "cell_type": "code",
   "execution_count": 50,
   "id": "d2ac3803",
   "metadata": {},
   "outputs": [
    {
     "name": "stdout",
     "output_type": "stream",
     "text": [
      "   author_id author_name            book_title  price\n",
      "0          1    Тургенев           Отцы и дети   1200\n",
      "1          1    Тургенев                 Рудин    500\n",
      "2          1    Тургенев     Дворянское гнездо    750\n",
      "3          2       Чехов      Толстый и тонкий   2000\n",
      "4          2       Чехов       Дама с собачкой    100\n",
      "5          3  Островский                 Гроза    345\n",
      "6          3  Островский  Таланты и поклонники     78\n"
     ]
    }
   ],
   "source": [
    "authors_price = pd.merge(authors, book, on = 'author_id', how = 'outer')\n",
    "print(authors_price)\n"
   ]
  },
  {
   "cell_type": "code",
   "execution_count": 51,
   "id": "c977171a",
   "metadata": {},
   "outputs": [
    {
     "name": "stdout",
     "output_type": "stream",
     "text": [
      "   author_id author_name         book_title  price\n",
      "3          2       Чехов   Толстый и тонкий   2000\n",
      "0          1    Тургенев        Отцы и дети   1200\n",
      "2          1    Тургенев  Дворянское гнездо    750\n",
      "1          1    Тургенев              Рудин    500\n",
      "5          3  Островский              Гроза    345\n"
     ]
    }
   ],
   "source": [
    "top5 = authors_price.nlargest(5, 'price')\n",
    "print(top5)\n"
   ]
  },
  {
   "cell_type": "code",
   "execution_count": 52,
   "id": "db894f53",
   "metadata": {},
   "outputs": [
    {
     "name": "stdout",
     "output_type": "stream",
     "text": [
      "Тургенев      3\n",
      "Чехов         2\n",
      "Островский    2\n",
      "Name: author_name, dtype: int64\n"
     ]
    }
   ],
   "source": [
    "authors_stat = authors_price['author_name'].value_counts()\n",
    "print(authors_stat)"
   ]
  },
  {
   "cell_type": "code",
   "execution_count": 53,
   "id": "f0e3f479",
   "metadata": {},
   "outputs": [
    {
     "name": "stdout",
     "output_type": "stream",
     "text": [
      "   author_id author_name            book_title  price    cover\n",
      "0          1    Тургенев           Отцы и дети   1200  твердая\n",
      "1          1    Тургенев                 Рудин    500  твердая\n",
      "2          1    Тургенев     Дворянское гнездо    750   мягкая\n",
      "3          2       Чехов      Толстый и тонкий   2000   мягкая\n",
      "4          2       Чехов       Дама с собачкой    100  твердая\n",
      "5          3  Островский                 Гроза    345   мягкая\n",
      "6          3  Островский  Таланты и поклонники     78  твердая\n"
     ]
    }
   ],
   "source": [
    "authors_price['cover'] = ['твердая', 'твердая', 'мягкая', 'мягкая', 'твердая', 'мягкая', 'твердая']\n",
    "print(authors_price)\n"
   ]
  },
  {
   "cell_type": "code",
   "execution_count": null,
   "id": "9a9a5a13",
   "metadata": {},
   "outputs": [],
   "source": []
  }
 ],
 "metadata": {
  "kernelspec": {
   "display_name": "Python 3 (ipykernel)",
   "language": "python",
   "name": "python3"
  },
  "language_info": {
   "codemirror_mode": {
    "name": "ipython",
    "version": 3
   },
   "file_extension": ".py",
   "mimetype": "text/x-python",
   "name": "python",
   "nbconvert_exporter": "python",
   "pygments_lexer": "ipython3",
   "version": "3.9.13"
  }
 },
 "nbformat": 4,
 "nbformat_minor": 5
}
